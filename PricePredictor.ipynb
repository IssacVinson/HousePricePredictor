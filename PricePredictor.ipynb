#step 1 
import pandas as pd 
import os
from sklearn.model_selection import train_test_split
from sklearn.ensemble import RandomForestRegressor
from sklearn.preprocessing import StandardScaler
from sklearn.pipeline import make_pipeline
from sklearn.metrics import mean_squared_error
from math import sqrt

#step 2
file_path = "/content/sample_data/usa_housing_kaggle.csv"
data = pd.read_csv(file_path)

#step 3
print("\n Data Preview:")
print(data.head())

#step 4
X = data[['Bedrooms', 'Bathrooms', 'SquareFeet', 'GarageSpaces', 'YearBuilt']]
y = data['Price']

#step 5
X_train, X_test, y_train, y_test = train_test_split(X, y, test_size=0.2, random_state=0)

#step 6
model = make_pipeline(
    StandardScaler(),
    RandomForestRegressor(n_estimators=100, random_state=0)
)

#step 7
model.fit(X_train, y_train)

#step 8
predictions = model.predict(X_test)
rmse = sqrt(mean_squared_error(y_test, predictions))
print(f"\n Root Mean Squared Error (RMSE): ${round(rmse, 2)}")

#step 9
def predict_price(beds, baths, sq_ft, garage_spaces, year_built):
    input_features = pd.DataFrame([[beds, baths, sq_ft, garage_spaces, year_built]],
                                  columns=X.columns)
    prediction = model.predict(input_features)
    return round(prediction[0], 2)

#step 10
example_price = predict_price(3, 2, 2000, 2, 2010)
print(f"\n Estimated price for 3 bed, 2 bath, 2000 sq ft, 2-car garage, built in 2010: ${example_price}")
